{
 "cells": [
  {
   "cell_type": "markdown",
   "metadata": {
    "id": "spVIFZctx1W7"
   },
   "source": [
    "# PRACTICE Exam #3 Q1 - Supervised Learning\n",
    "\n",
    "In this question you will perform supervised learning on the `heart-disease.csv` dataset to understand factors related to heart disease."
   ]
  },
  {
   "cell_type": "markdown",
   "metadata": {
    "id": "ZTkVac79x1W-"
   },
   "source": [
    "## Data Dictionary:\n",
    "\n",
    "    * age - age in years\n",
    "    * sex - (1 = male; 0 = female)\n",
    "    * cp - chest pain type -\n",
    "        -- 1: typical angina\n",
    "        -- 2: atypical angina\n",
    "        -- 3: non-anginal pain\n",
    "        -- 4: asymptomatic\n",
    "    * trestbps - resting blood pressure (in mm Hg on admission to the hospital)\n",
    "    * chol - serum cholestoral in mg/dl\n",
    "    * fbs - (fasting blood sugar > 120 mg/dl) (1 = true; 0 = false)\n",
    "    * restecg - resting electrocardiographic results\n",
    "        -- 0: normal\n",
    "        -- 1: having ST-T wave abnormality (T wave inversions and/or ST \n",
    "                    elevation or depression of > 0.05 mV)\n",
    "        -- 2: showing probable or definite left ventricular hypertrophy\n",
    "                    by Estes' criteria\n",
    "    * thalach - maximum heart rate achieved\n",
    "    * exang - exercise induced angina (1 = yes; 0 = no)\n",
    "    * oldpeak - ST depression induced by exercise relative to rest\n",
    "    * slope - the slope of the peak exercise ST segment\n",
    "        -- 1: upsloping\n",
    "        -- 2: flat\n",
    "        -- 3: downsloping\n",
    "    * target - 1 or 0 (Has / Doesn't have heart disease)"
   ]
  },
  {
   "cell_type": "markdown",
   "metadata": {
    "id": "oGYa9o8xx1W_"
   },
   "source": [
    "## Questions:"
   ]
  },
  {
   "cell_type": "markdown",
   "metadata": {
    "id": "t26s5dRmx1W_"
   },
   "source": [
    "### Q1.1 Open the `heart-disease.csv` dataset and explore it LIGHTLY, including some basic plots.\n",
    "\n",
    "##### Note: The column `target` represents if the person in question has, or does not have a heart disease, and this is the target feature we will learn to predict."
   ]
  },
  {
   "cell_type": "markdown",
   "metadata": {
    "id": "qodDAZf9x1XA"
   },
   "source": [
    "### What evaluation metrics would you pair with this prediction task? Elaborate on the meaning of each metric in the context of the task. What is the baseline for this task?"
   ]
  },
  {
   "cell_type": "code",
   "execution_count": 1,
   "metadata": {
    "ExecuteTime": {
     "end_time": "2020-12-20T17:38:35.498366Z",
     "start_time": "2020-12-20T17:38:35.485399Z"
    },
    "id": "Qf3o3-d-x1W_"
   },
   "outputs": [],
   "source": [
    "import numpy as np\n",
    "import pandas as pd\n",
    "import seaborn as sns\n",
    "import matplotlib.pyplot as plt\n",
    "import plotly.express as px\n",
    "from sklearn import metrics\n",
    "sns.set_palette('bright')\n",
    "%matplotlib inline"
   ]
  },
  {
   "cell_type": "code",
   "execution_count": 2,
   "metadata": {},
   "outputs": [
    {
     "data": {
      "text/plain": [
       "(732, 12)"
      ]
     },
     "execution_count": 2,
     "metadata": {},
     "output_type": "execute_result"
    }
   ],
   "source": [
    "df = pd.read_csv('heart-disease.csv')\n",
    "df.shape"
   ]
  },
  {
   "cell_type": "code",
   "execution_count": 3,
   "metadata": {},
   "outputs": [
    {
     "data": {
      "text/html": [
       "<div>\n",
       "<style scoped>\n",
       "    .dataframe tbody tr th:only-of-type {\n",
       "        vertical-align: middle;\n",
       "    }\n",
       "\n",
       "    .dataframe tbody tr th {\n",
       "        vertical-align: top;\n",
       "    }\n",
       "\n",
       "    .dataframe thead th {\n",
       "        text-align: right;\n",
       "    }\n",
       "</style>\n",
       "<table border=\"1\" class=\"dataframe\">\n",
       "  <thead>\n",
       "    <tr style=\"text-align: right;\">\n",
       "      <th></th>\n",
       "      <th>age</th>\n",
       "      <th>sex</th>\n",
       "      <th>cp</th>\n",
       "      <th>trestbps</th>\n",
       "      <th>chol</th>\n",
       "      <th>fbs</th>\n",
       "      <th>restecg</th>\n",
       "      <th>thalach</th>\n",
       "      <th>exang</th>\n",
       "      <th>oldpeak</th>\n",
       "      <th>slope</th>\n",
       "      <th>target</th>\n",
       "    </tr>\n",
       "  </thead>\n",
       "  <tbody>\n",
       "    <tr>\n",
       "      <th>442</th>\n",
       "      <td>36.0</td>\n",
       "      <td>1.0</td>\n",
       "      <td>2.0</td>\n",
       "      <td>120.0</td>\n",
       "      <td>166.0</td>\n",
       "      <td>0.0</td>\n",
       "      <td>0.0</td>\n",
       "      <td>180.0</td>\n",
       "      <td>0.0</td>\n",
       "      <td>0.0</td>\n",
       "      <td>0.0</td>\n",
       "      <td>0</td>\n",
       "    </tr>\n",
       "    <tr>\n",
       "      <th>416</th>\n",
       "      <td>58.0</td>\n",
       "      <td>1.0</td>\n",
       "      <td>3.0</td>\n",
       "      <td>150.0</td>\n",
       "      <td>219.0</td>\n",
       "      <td>0.0</td>\n",
       "      <td>1.0</td>\n",
       "      <td>118.0</td>\n",
       "      <td>1.0</td>\n",
       "      <td>0.0</td>\n",
       "      <td>0.0</td>\n",
       "      <td>1</td>\n",
       "    </tr>\n",
       "    <tr>\n",
       "      <th>275</th>\n",
       "      <td>64.0</td>\n",
       "      <td>1.0</td>\n",
       "      <td>1.0</td>\n",
       "      <td>170.0</td>\n",
       "      <td>227.0</td>\n",
       "      <td>0.0</td>\n",
       "      <td>2.0</td>\n",
       "      <td>155.0</td>\n",
       "      <td>0.0</td>\n",
       "      <td>0.6</td>\n",
       "      <td>2.0</td>\n",
       "      <td>0</td>\n",
       "    </tr>\n",
       "    <tr>\n",
       "      <th>460</th>\n",
       "      <td>39.0</td>\n",
       "      <td>1.0</td>\n",
       "      <td>3.0</td>\n",
       "      <td>160.0</td>\n",
       "      <td>147.0</td>\n",
       "      <td>1.0</td>\n",
       "      <td>0.0</td>\n",
       "      <td>160.0</td>\n",
       "      <td>0.0</td>\n",
       "      <td>0.0</td>\n",
       "      <td>0.0</td>\n",
       "      <td>0</td>\n",
       "    </tr>\n",
       "    <tr>\n",
       "      <th>318</th>\n",
       "      <td>46.0</td>\n",
       "      <td>1.0</td>\n",
       "      <td>4.0</td>\n",
       "      <td>110.0</td>\n",
       "      <td>236.0</td>\n",
       "      <td>0.0</td>\n",
       "      <td>0.0</td>\n",
       "      <td>125.0</td>\n",
       "      <td>1.0</td>\n",
       "      <td>2.0</td>\n",
       "      <td>2.0</td>\n",
       "      <td>1</td>\n",
       "    </tr>\n",
       "  </tbody>\n",
       "</table>\n",
       "</div>"
      ],
      "text/plain": [
       "      age  sex   cp  trestbps   chol  fbs  restecg  thalach  exang  oldpeak  \\\n",
       "442  36.0  1.0  2.0     120.0  166.0  0.0      0.0    180.0    0.0      0.0   \n",
       "416  58.0  1.0  3.0     150.0  219.0  0.0      1.0    118.0    1.0      0.0   \n",
       "275  64.0  1.0  1.0     170.0  227.0  0.0      2.0    155.0    0.0      0.6   \n",
       "460  39.0  1.0  3.0     160.0  147.0  1.0      0.0    160.0    0.0      0.0   \n",
       "318  46.0  1.0  4.0     110.0  236.0  0.0      0.0    125.0    1.0      2.0   \n",
       "\n",
       "     slope  target  \n",
       "442    0.0       0  \n",
       "416    0.0       1  \n",
       "275    2.0       0  \n",
       "460    0.0       0  \n",
       "318    2.0       1  "
      ]
     },
     "metadata": {},
     "output_type": "display_data"
    },
    {
     "name": "stdout",
     "output_type": "stream",
     "text": [
      "\n",
      "\n",
      "<class 'pandas.core.frame.DataFrame'>\n",
      "RangeIndex: 732 entries, 0 to 731\n",
      "Data columns (total 12 columns):\n",
      " #   Column    Non-Null Count  Dtype  \n",
      "---  ------    --------------  -----  \n",
      " 0   age       732 non-null    float64\n",
      " 1   sex       732 non-null    float64\n",
      " 2   cp        732 non-null    float64\n",
      " 3   trestbps  732 non-null    float64\n",
      " 4   chol      732 non-null    float64\n",
      " 5   fbs       732 non-null    float64\n",
      " 6   restecg   732 non-null    float64\n",
      " 7   thalach   732 non-null    float64\n",
      " 8   exang     732 non-null    float64\n",
      " 9   oldpeak   732 non-null    float64\n",
      " 10  slope     732 non-null    float64\n",
      " 11  target    732 non-null    int64  \n",
      "dtypes: float64(11), int64(1)\n",
      "memory usage: 68.8 KB\n"
     ]
    },
    {
     "data": {
      "text/plain": [
       "None"
      ]
     },
     "metadata": {},
     "output_type": "display_data"
    },
    {
     "name": "stdout",
     "output_type": "stream",
     "text": [
      "\n",
      "\n"
     ]
    },
    {
     "data": {
      "text/html": [
       "<div>\n",
       "<style scoped>\n",
       "    .dataframe tbody tr th:only-of-type {\n",
       "        vertical-align: middle;\n",
       "    }\n",
       "\n",
       "    .dataframe tbody tr th {\n",
       "        vertical-align: top;\n",
       "    }\n",
       "\n",
       "    .dataframe thead th {\n",
       "        text-align: right;\n",
       "    }\n",
       "</style>\n",
       "<table border=\"1\" class=\"dataframe\">\n",
       "  <thead>\n",
       "    <tr style=\"text-align: right;\">\n",
       "      <th></th>\n",
       "      <th>age</th>\n",
       "      <th>sex</th>\n",
       "      <th>cp</th>\n",
       "      <th>trestbps</th>\n",
       "      <th>chol</th>\n",
       "      <th>fbs</th>\n",
       "      <th>restecg</th>\n",
       "      <th>thalach</th>\n",
       "      <th>exang</th>\n",
       "      <th>oldpeak</th>\n",
       "      <th>slope</th>\n",
       "      <th>target</th>\n",
       "    </tr>\n",
       "  </thead>\n",
       "  <tbody>\n",
       "    <tr>\n",
       "      <th>count</th>\n",
       "      <td>732.000000</td>\n",
       "      <td>732.000000</td>\n",
       "      <td>732.000000</td>\n",
       "      <td>732.000000</td>\n",
       "      <td>732.000000</td>\n",
       "      <td>732.000000</td>\n",
       "      <td>732.000000</td>\n",
       "      <td>732.000000</td>\n",
       "      <td>732.000000</td>\n",
       "      <td>732.00000</td>\n",
       "      <td>732.000000</td>\n",
       "      <td>732.000000</td>\n",
       "    </tr>\n",
       "    <tr>\n",
       "      <th>mean</th>\n",
       "      <td>53.042350</td>\n",
       "      <td>0.762295</td>\n",
       "      <td>3.224044</td>\n",
       "      <td>132.489071</td>\n",
       "      <td>220.372951</td>\n",
       "      <td>0.148907</td>\n",
       "      <td>0.633880</td>\n",
       "      <td>139.005464</td>\n",
       "      <td>0.396175</td>\n",
       "      <td>0.88388</td>\n",
       "      <td>1.280055</td>\n",
       "      <td>0.513661</td>\n",
       "    </tr>\n",
       "    <tr>\n",
       "      <th>std</th>\n",
       "      <td>9.429245</td>\n",
       "      <td>0.425969</td>\n",
       "      <td>0.940978</td>\n",
       "      <td>18.411132</td>\n",
       "      <td>93.266363</td>\n",
       "      <td>0.356240</td>\n",
       "      <td>0.841697</td>\n",
       "      <td>25.729573</td>\n",
       "      <td>0.489436</td>\n",
       "      <td>1.08704</td>\n",
       "      <td>0.939765</td>\n",
       "      <td>0.500155</td>\n",
       "    </tr>\n",
       "    <tr>\n",
       "      <th>min</th>\n",
       "      <td>28.000000</td>\n",
       "      <td>0.000000</td>\n",
       "      <td>1.000000</td>\n",
       "      <td>0.000000</td>\n",
       "      <td>0.000000</td>\n",
       "      <td>0.000000</td>\n",
       "      <td>0.000000</td>\n",
       "      <td>60.000000</td>\n",
       "      <td>0.000000</td>\n",
       "      <td>-1.00000</td>\n",
       "      <td>0.000000</td>\n",
       "      <td>0.000000</td>\n",
       "    </tr>\n",
       "    <tr>\n",
       "      <th>25%</th>\n",
       "      <td>46.000000</td>\n",
       "      <td>1.000000</td>\n",
       "      <td>2.000000</td>\n",
       "      <td>120.000000</td>\n",
       "      <td>197.000000</td>\n",
       "      <td>0.000000</td>\n",
       "      <td>0.000000</td>\n",
       "      <td>120.000000</td>\n",
       "      <td>0.000000</td>\n",
       "      <td>0.00000</td>\n",
       "      <td>0.000000</td>\n",
       "      <td>0.000000</td>\n",
       "    </tr>\n",
       "    <tr>\n",
       "      <th>50%</th>\n",
       "      <td>54.000000</td>\n",
       "      <td>1.000000</td>\n",
       "      <td>4.000000</td>\n",
       "      <td>130.000000</td>\n",
       "      <td>231.000000</td>\n",
       "      <td>0.000000</td>\n",
       "      <td>0.000000</td>\n",
       "      <td>140.000000</td>\n",
       "      <td>0.000000</td>\n",
       "      <td>0.50000</td>\n",
       "      <td>1.000000</td>\n",
       "      <td>1.000000</td>\n",
       "    </tr>\n",
       "    <tr>\n",
       "      <th>75%</th>\n",
       "      <td>60.000000</td>\n",
       "      <td>1.000000</td>\n",
       "      <td>4.000000</td>\n",
       "      <td>140.000000</td>\n",
       "      <td>271.000000</td>\n",
       "      <td>0.000000</td>\n",
       "      <td>1.000000</td>\n",
       "      <td>160.000000</td>\n",
       "      <td>1.000000</td>\n",
       "      <td>1.50000</td>\n",
       "      <td>2.000000</td>\n",
       "      <td>1.000000</td>\n",
       "    </tr>\n",
       "    <tr>\n",
       "      <th>max</th>\n",
       "      <td>77.000000</td>\n",
       "      <td>1.000000</td>\n",
       "      <td>4.000000</td>\n",
       "      <td>200.000000</td>\n",
       "      <td>603.000000</td>\n",
       "      <td>1.000000</td>\n",
       "      <td>2.000000</td>\n",
       "      <td>202.000000</td>\n",
       "      <td>1.000000</td>\n",
       "      <td>6.20000</td>\n",
       "      <td>3.000000</td>\n",
       "      <td>1.000000</td>\n",
       "    </tr>\n",
       "  </tbody>\n",
       "</table>\n",
       "</div>"
      ],
      "text/plain": [
       "              age         sex          cp    trestbps        chol         fbs  \\\n",
       "count  732.000000  732.000000  732.000000  732.000000  732.000000  732.000000   \n",
       "mean    53.042350    0.762295    3.224044  132.489071  220.372951    0.148907   \n",
       "std      9.429245    0.425969    0.940978   18.411132   93.266363    0.356240   \n",
       "min     28.000000    0.000000    1.000000    0.000000    0.000000    0.000000   \n",
       "25%     46.000000    1.000000    2.000000  120.000000  197.000000    0.000000   \n",
       "50%     54.000000    1.000000    4.000000  130.000000  231.000000    0.000000   \n",
       "75%     60.000000    1.000000    4.000000  140.000000  271.000000    0.000000   \n",
       "max     77.000000    1.000000    4.000000  200.000000  603.000000    1.000000   \n",
       "\n",
       "          restecg     thalach       exang    oldpeak       slope      target  \n",
       "count  732.000000  732.000000  732.000000  732.00000  732.000000  732.000000  \n",
       "mean     0.633880  139.005464    0.396175    0.88388    1.280055    0.513661  \n",
       "std      0.841697   25.729573    0.489436    1.08704    0.939765    0.500155  \n",
       "min      0.000000   60.000000    0.000000   -1.00000    0.000000    0.000000  \n",
       "25%      0.000000  120.000000    0.000000    0.00000    0.000000    0.000000  \n",
       "50%      0.000000  140.000000    0.000000    0.50000    1.000000    1.000000  \n",
       "75%      1.000000  160.000000    1.000000    1.50000    2.000000    1.000000  \n",
       "max      2.000000  202.000000    1.000000    6.20000    3.000000    1.000000  "
      ]
     },
     "metadata": {},
     "output_type": "display_data"
    }
   ],
   "source": [
    "# Show sample data and summary statistics\n",
    "display(df.sample(5))\n",
    "print()\n",
    "print()\n",
    "display(df.info())\n",
    "print()\n",
    "print()\n",
    "display(df.describe())"
   ]
  },
  {
   "cell_type": "markdown",
   "metadata": {},
   "source": [
    "All numerical data."
   ]
  },
  {
   "cell_type": "code",
   "execution_count": 4,
   "metadata": {},
   "outputs": [],
   "source": [
    "# Separate features and target\n",
    "TARGET = 'target'\n",
    "FEATS = list(set(df.columns)-{TARGET})\n",
    "\n",
    "X = df.drop(columns=TARGET)\n",
    "y = df[TARGET]"
   ]
  },
  {
   "cell_type": "code",
   "execution_count": 5,
   "metadata": {
    "ExecuteTime": {
     "end_time": "2020-12-20T17:38:39.946466Z",
     "start_time": "2020-12-20T17:38:39.931506Z"
    },
    "id": "8sSlszKYx1XA"
   },
   "outputs": [
    {
     "data": {
      "text/plain": [
       "'Unique values in each column:'"
      ]
     },
     "metadata": {},
     "output_type": "display_data"
    },
    {
     "data": {
      "text/plain": [
       "chol        207\n",
       "thalach     114\n",
       "trestbps     58\n",
       "age          50\n",
       "oldpeak      44\n",
       "cp            4\n",
       "slope         4\n",
       "restecg       3\n",
       "sex           2\n",
       "fbs           2\n",
       "exang         2\n",
       "dtype: int64"
      ]
     },
     "metadata": {},
     "output_type": "display_data"
    },
    {
     "name": "stdout",
     "output_type": "stream",
     "text": [
      "\n",
      "\n"
     ]
    },
    {
     "data": {
      "text/plain": [
       "'Missing values in each column:'"
      ]
     },
     "metadata": {},
     "output_type": "display_data"
    },
    {
     "data": {
      "text/plain": [
       "age         0\n",
       "sex         0\n",
       "cp          0\n",
       "trestbps    0\n",
       "chol        0\n",
       "fbs         0\n",
       "restecg     0\n",
       "thalach     0\n",
       "exang       0\n",
       "oldpeak     0\n",
       "slope       0\n",
       "dtype: int64"
      ]
     },
     "metadata": {},
     "output_type": "display_data"
    },
    {
     "name": "stdout",
     "output_type": "stream",
     "text": [
      "\n",
      "\n"
     ]
    },
    {
     "data": {
      "text/plain": [
       "'Proportion of missing values in each column:'"
      ]
     },
     "metadata": {},
     "output_type": "display_data"
    },
    {
     "data": {
      "text/plain": [
       "age         0.0\n",
       "sex         0.0\n",
       "cp          0.0\n",
       "trestbps    0.0\n",
       "chol        0.0\n",
       "fbs         0.0\n",
       "restecg     0.0\n",
       "thalach     0.0\n",
       "exang       0.0\n",
       "oldpeak     0.0\n",
       "slope       0.0\n",
       "dtype: float64"
      ]
     },
     "metadata": {},
     "output_type": "display_data"
    },
    {
     "name": "stdout",
     "output_type": "stream",
     "text": [
      "\n",
      "\n"
     ]
    },
    {
     "data": {
      "text/plain": [
       "'Number of rows and columns:'"
      ]
     },
     "metadata": {},
     "output_type": "display_data"
    },
    {
     "data": {
      "text/plain": [
       "(732, 11)"
      ]
     },
     "metadata": {},
     "output_type": "display_data"
    }
   ],
   "source": [
    "# Check values\n",
    "display(\"Unique values in each column:\")\n",
    "display(X.nunique().sort_values(ascending=False))\n",
    "print()\n",
    "print()\n",
    "display(\"Missing values in each column:\")\n",
    "display(X.isnull().sum().sort_values(ascending=False))\n",
    "print()\n",
    "print()\n",
    "display(\"Proportion of missing values in each column:\")\n",
    "display(X.isnull().sum().sort_values(ascending=False) / len(X))\n",
    "print()\n",
    "print()\n",
    "display(\"Number of rows and columns:\")\n",
    "display(X.shape)"
   ]
  },
  {
   "cell_type": "code",
   "execution_count": 6,
   "metadata": {},
   "outputs": [
    {
     "name": "stdout",
     "output_type": "stream",
     "text": [
      "Binary Features: ['sex', 'fbs', 'exang']\n",
      "Continuous Features: ['age', 'trestbps', 'chol', 'thalach', 'oldpeak']\n",
      "Discrete Features: ['cp', 'restecg', 'slope']\n"
     ]
    }
   ],
   "source": [
    "# Group continutous and binary features\n",
    "FEATS_BINARY = []\n",
    "FEATS_CONT = []\n",
    "FEATS_DISC = []\n",
    "\n",
    "# Iterate through each column and check the number of unique values\n",
    "for column in X.columns:\n",
    "    if X[column].nunique() == 2:\n",
    "        FEATS_BINARY.append(column)\n",
    "    elif X[column].nunique() > 40:\n",
    "        FEATS_CONT.append(column)\n",
    "    else:\n",
    "        FEATS_DISC.append(column)\n",
    "\n",
    "# Now FEATS_BINARY will contain the names of binary features\n",
    "print(\"Binary Features:\", FEATS_BINARY)\n",
    "print(\"Continuous Features:\", FEATS_CONT)\n",
    "print(\"Discrete Features:\", FEATS_DISC)"
   ]
  },
  {
   "cell_type": "code",
   "execution_count": 7,
   "metadata": {},
   "outputs": [
    {
     "data": {
      "image/png": "[encoded data removed]",
      "text/plain": [
       "<Figure size 1500x600 with 6 Axes>"
      ]
     },
     "metadata": {},
     "output_type": "display_data"
    }
   ],
   "source": [
    "# Histograms for numerical data to understand distributions\n",
    "X[FEATS_CONT].hist(bins=15, figsize=(15, 6), layout=(2, 3))\n",
    "plt.tight_layout()\n",
    "plt.show()"
   ]
  },
  {
   "cell_type": "code",
   "execution_count": 8,
   "metadata": {},
   "outputs": [
    {
     "data": {
      "image/png": "[encoded data removed]",
      "text/plain": [
       "<Figure size 1000x600 with 2 Axes>"
      ]
     },
     "metadata": {},
     "output_type": "display_data"
    }
   ],
   "source": [
    "# Correlation Heatmap\n",
    "plt.figure(figsize=(10, 6))\n",
    "heatmap = sns.heatmap(X[FEATS_CONT].corr(), annot=True, cmap='coolwarm', fmt=\".2f\")\n",
    "heatmap.set_title('Correlation Heatmap', fontsize=20)\n",
    "plt.show()"
   ]
  },
  {
   "cell_type": "markdown",
   "metadata": {},
   "source": [
    "### Counts plots for binary & discrete features"
   ]
  },
  {
   "cell_type": "code",
   "execution_count": 9,
   "metadata": {
    "scrolled": true
   },
   "outputs": [
    {
     "data": {
      "image/png": "[encoded data removed]",
      "text/plain": [
       "<Figure size 640x480 with 1 Axes>"
      ]
     },
     "metadata": {},
     "output_type": "display_data"
    },
    {
     "data": {
      "image/png": "[encoded data removed]",
      "text/plain": [
       "<Figure size 640x480 with 1 Axes>"
      ]
     },
     "metadata": {},
     "output_type": "display_data"
    },
    {
     "data": {
      "image/png": "[encoded data removed]",
      "text/plain": [
       "<Figure size 640x480 with 1 Axes>"
      ]
     },
     "metadata": {},
     "output_type": "display_data"
    }
   ],
   "source": [
    "# Iterate through each feature in the list of binary features\n",
    "for feat in FEATS_BINARY:\n",
    "    \n",
    "    plt.figure()\n",
    "    sns.countplot(x = X[feat])\n",
    "    plt.title(feat + ' distribution')\n",
    "    plt.xlabel(feat)\n",
    "    plt.show()"
   ]
  },
  {
   "cell_type": "code",
   "execution_count": 10,
   "metadata": {},
   "outputs": [
    {
     "data": {
      "text/plain": [
       "'Proportion of values in sex:'"
      ]
     },
     "metadata": {},
     "output_type": "display_data"
    },
    {
     "data": {
      "text/plain": [
       "sex\n",
       "1.0    0.762295\n",
       "0.0    0.237705\n",
       "Name: proportion, dtype: float64"
      ]
     },
     "metadata": {},
     "output_type": "display_data"
    },
    {
     "name": "stdout",
     "output_type": "stream",
     "text": [
      "\n"
     ]
    },
    {
     "data": {
      "text/plain": [
       "'Proportion of values in fbs:'"
      ]
     },
     "metadata": {},
     "output_type": "display_data"
    },
    {
     "data": {
      "text/plain": [
       "fbs\n",
       "0.0    0.851093\n",
       "1.0    0.148907\n",
       "Name: proportion, dtype: float64"
      ]
     },
     "metadata": {},
     "output_type": "display_data"
    },
    {
     "name": "stdout",
     "output_type": "stream",
     "text": [
      "\n"
     ]
    },
    {
     "data": {
      "text/plain": [
       "'Proportion of values in exang:'"
      ]
     },
     "metadata": {},
     "output_type": "display_data"
    },
    {
     "data": {
      "text/plain": [
       "exang\n",
       "0.0    0.603825\n",
       "1.0    0.396175\n",
       "Name: proportion, dtype: float64"
      ]
     },
     "metadata": {},
     "output_type": "display_data"
    },
    {
     "name": "stdout",
     "output_type": "stream",
     "text": [
      "\n"
     ]
    }
   ],
   "source": [
    "# Check if specific values dominant the distribution\n",
    "for feat in FEATS_BINARY:\n",
    "    display(f'Proportion of values in {feat}:')\n",
    "    display(X[feat].value_counts(normalize=True, dropna=False))\n",
    "    print()"
   ]
  },
  {
   "cell_type": "markdown",
   "metadata": {},
   "source": [
    "High proportion of fbs. More males than females"
   ]
  },
  {
   "cell_type": "code",
   "execution_count": 11,
   "metadata": {
    "scrolled": true
   },
   "outputs": [
    {
     "data": {
      "image/png": "[encoded data removed]",
      "text/plain": [
       "<Figure size 640x480 with 1 Axes>"
      ]
     },
     "metadata": {},
     "output_type": "display_data"
    },
    {
     "data": {
      "image/png": "[encoded data removed]",
      "text/plain": [
       "<Figure size 640x480 with 1 Axes>"
      ]
     },
     "metadata": {},
     "output_type": "display_data"
    },
    {
     "data": {
      "image/png": "[encoded data removed]",
      "text/plain": [
       "<Figure size 640x480 with 1 Axes>"
      ]
     },
     "metadata": {},
     "output_type": "display_data"
    }
   ],
   "source": [
    "# Plot each feature in the list of discrete features\n",
    "for feat in FEATS_DISC:\n",
    "    \n",
    "    plt.figure()\n",
    "    sns.countplot(x = X[feat])\n",
    "    plt.title(feat + ' distribution')\n",
    "    plt.xlabel(feat)\n",
    "    plt.show()"
   ]
  },
  {
   "cell_type": "code",
   "execution_count": 12,
   "metadata": {},
   "outputs": [
    {
     "data": {
      "text/plain": [
       "'Proportion of values in cp:'"
      ]
     },
     "metadata": {},
     "output_type": "display_data"
    },
    {
     "data": {
      "text/plain": [
       "cp\n",
       "4.0    0.528689\n",
       "3.0    0.217213\n",
       "2.0    0.203552\n",
       "1.0    0.050546\n",
       "Name: proportion, dtype: float64"
      ]
     },
     "metadata": {},
     "output_type": "display_data"
    },
    {
     "name": "stdout",
     "output_type": "stream",
     "text": [
      "\n"
     ]
    },
    {
     "data": {
      "text/plain": [
       "'Proportion of values in restecg:'"
      ]
     },
     "metadata": {},
     "output_type": "display_data"
    },
    {
     "data": {
      "text/plain": [
       "restecg\n",
       "0.0    0.603825\n",
       "2.0    0.237705\n",
       "1.0    0.158470\n",
       "Name: proportion, dtype: float64"
      ]
     },
     "metadata": {},
     "output_type": "display_data"
    },
    {
     "name": "stdout",
     "output_type": "stream",
     "text": [
      "\n"
     ]
    },
    {
     "data": {
      "text/plain": [
       "'Proportion of values in slope:'"
      ]
     },
     "metadata": {},
     "output_type": "display_data"
    },
    {
     "data": {
      "text/plain": [
       "slope\n",
       "2.0    0.423497\n",
       "0.0    0.274590\n",
       "1.0    0.236339\n",
       "3.0    0.065574\n",
       "Name: proportion, dtype: float64"
      ]
     },
     "metadata": {},
     "output_type": "display_data"
    },
    {
     "name": "stdout",
     "output_type": "stream",
     "text": [
      "\n"
     ]
    }
   ],
   "source": [
    "# Check if specific values dominant the distribution\n",
    "for feat in FEATS_DISC:\n",
    "    display(f'Proportion of values in {feat}:')\n",
    "    display(X[feat].value_counts(normalize=True, dropna=False))\n",
    "    print()"
   ]
  },
  {
   "cell_type": "markdown",
   "metadata": {},
   "source": [
    "### Target analysis"
   ]
  },
  {
   "cell_type": "code",
   "execution_count": 13,
   "metadata": {},
   "outputs": [
    {
     "data": {
      "text/plain": [
       "'Correlation of Features with Target:'"
      ]
     },
     "metadata": {},
     "output_type": "display_data"
    },
    {
     "data": {
      "text/plain": [
       "target      1.000000\n",
       "exang       0.491987\n",
       "cp          0.467278\n",
       "slope       0.432781\n",
       "oldpeak     0.413554\n",
       "sex         0.297786\n",
       "age         0.285450\n",
       "trestbps    0.142038\n",
       "fbs         0.122928\n",
       "restecg     0.089886\n",
       "chol       -0.142179\n",
       "thalach    -0.391201\n",
       "Name: target, dtype: float64"
      ]
     },
     "metadata": {},
     "output_type": "display_data"
    },
    {
     "name": "stdout",
     "output_type": "stream",
     "text": [
      "\n",
      "\n"
     ]
    },
    {
     "data": {
      "text/plain": [
       "'Features with High Correlation to Target:'"
      ]
     },
     "metadata": {},
     "output_type": "display_data"
    },
    {
     "data": {
      "text/plain": [
       "['exang', 'cp', 'slope', 'oldpeak', 'sex', 'age', 'thalach']"
      ]
     },
     "metadata": {},
     "output_type": "display_data"
    }
   ],
   "source": [
    "# Sort features by correlation with target\n",
    "display(\"Correlation of Features with Target:\")\n",
    "corr_to_target = df.corr()['target'].sort_values(ascending=False)\n",
    "display(corr_to_target)\n",
    "print()\n",
    "print()\n",
    "# Create list of highlly correlated features with target\n",
    "display(\"Features with High Correlation to Target:\")\n",
    "high_corr_features = corr_to_target[abs(corr_to_target.values) > 0.2].drop('target').index.tolist()\n",
    "display(high_corr_features)"
   ]
  },
  {
   "cell_type": "code",
   "execution_count": 14,
   "metadata": {
    "scrolled": true
   },
   "outputs": [
    {
     "data": {
      "image/png": "[encoded data removed]",
      "text/plain": [
       "<Figure size 600x400 with 1 Axes>"
      ]
     },
     "metadata": {},
     "output_type": "display_data"
    },
    {
     "data": {
      "image/png": "[encoded data removed]",
      "text/plain": [
       "<Figure size 600x400 with 1 Axes>"
      ]
     },
     "metadata": {},
     "output_type": "display_data"
    },
    {
     "data": {
      "image/png": "[encoded data removed]",
      "text/plain": [
       "<Figure size 600x400 with 1 Axes>"
      ]
     },
     "metadata": {},
     "output_type": "display_data"
    },
    {
     "data": {
      "image/png": "[encoded data removed]",
      "text/plain": [
       "<Figure size 600x400 with 1 Axes>"
      ]
     },
     "metadata": {},
     "output_type": "display_data"
    },
    {
     "data": {
      "image/png": "[encoded data removed]",
      "text/plain": [
       "<Figure size 600x400 with 1 Axes>"
      ]
     },
     "metadata": {},
     "output_type": "display_data"
    },
    {
     "data": {
      "image/png": "[encoded data removed]",
      "text/plain": [
       "<Figure size 600x400 with 1 Axes>"
      ]
     },
     "metadata": {},
     "output_type": "display_data"
    },
    {
     "data": {
      "image/png": "[encoded data removed]",
      "text/plain": [
       "<Figure size 600x400 with 1 Axes>"
      ]
     },
     "metadata": {},
     "output_type": "display_data"
    }
   ],
   "source": [
    "for col in high_corr_features:\n",
    "    # Create a figure for the boxplot of the current feature.\n",
    "    plt.figure(figsize=(6, 4))\n",
    "    \n",
    "    # Plot the boxplot of the current feature (horizontal orientation).\n",
    "    plt.boxplot(X[col], vert=False)\n",
    "    plt.title(f'{col} Boxplot')\n",
    "    \n",
    "    # Display the boxplot for the current feature.\n",
    "    plt.show()"
   ]
  },
  {
   "cell_type": "code",
   "execution_count": 15,
   "metadata": {},
   "outputs": [
    {
     "data": {
      "image/png": "[encoded data removed]",
      "text/plain": [
       "<Figure size 640x480 with 1 Axes>"
      ]
     },
     "metadata": {},
     "output_type": "display_data"
    }
   ],
   "source": [
    "# Plot the boxplot for unusual correlation trends\n",
    "sns.boxplot(y = 'chol', x = 'target', data = df);\n",
    "plt.title(TARGET + ' distribution by COLUMN_NAME')\n",
    "plt.show()"
   ]
  },
  {
   "cell_type": "markdown",
   "metadata": {},
   "source": [
    "oldpeak has some outliers"
   ]
  },
  {
   "cell_type": "code",
   "execution_count": 16,
   "metadata": {},
   "outputs": [
    {
     "data": {
      "text/plain": [
       "'Unique values in target:'"
      ]
     },
     "metadata": {},
     "output_type": "display_data"
    },
    {
     "data": {
      "text/plain": [
       "array([0, 1])"
      ]
     },
     "metadata": {},
     "output_type": "display_data"
    },
    {
     "name": "stdout",
     "output_type": "stream",
     "text": [
      "\n"
     ]
    },
    {
     "data": {
      "text/plain": [
       "'Proportion of values in target:'"
      ]
     },
     "metadata": {},
     "output_type": "display_data"
    },
    {
     "data": {
      "text/plain": [
       "target\n",
       "1    0.513661\n",
       "0    0.486339\n",
       "Name: proportion, dtype: float64"
      ]
     },
     "metadata": {},
     "output_type": "display_data"
    },
    {
     "name": "stdout",
     "output_type": "stream",
     "text": [
      "\n"
     ]
    },
    {
     "data": {
      "text/plain": [
       "'Missing values in target:'"
      ]
     },
     "metadata": {},
     "output_type": "display_data"
    },
    {
     "data": {
      "text/plain": [
       "0"
      ]
     },
     "metadata": {},
     "output_type": "display_data"
    },
    {
     "name": "stdout",
     "output_type": "stream",
     "text": [
      "\n"
     ]
    },
    {
     "data": {
      "text/plain": [
       "'Proportion of missing values in target:'"
      ]
     },
     "metadata": {},
     "output_type": "display_data"
    },
    {
     "data": {
      "text/plain": [
       "0.0"
      ]
     },
     "metadata": {},
     "output_type": "display_data"
    },
    {
     "name": "stdout",
     "output_type": "stream",
     "text": [
      "\n"
     ]
    },
    {
     "data": {
      "text/plain": [
       "'Number of rows and columns:'"
      ]
     },
     "metadata": {},
     "output_type": "display_data"
    },
    {
     "data": {
      "text/plain": [
       "(732,)"
      ]
     },
     "metadata": {},
     "output_type": "display_data"
    }
   ],
   "source": [
    "# Check values for target\n",
    "display(\"Unique values in target:\")\n",
    "display(y.unique())\n",
    "print()\n",
    "display(\"Proportion of values in target:\")\n",
    "display(y.value_counts(normalize=True, dropna=False))\n",
    "print()\n",
    "display(\"Missing values in target:\")\n",
    "display(y.isnull().sum())\n",
    "print()\n",
    "display(\"Proportion of missing values in target:\")\n",
    "display(y.isnull().sum() / len(y))\n",
    "print()\n",
    "display(\"Number of rows and columns:\")\n",
    "display(y.shape)"
   ]
  },
  {
   "cell_type": "markdown",
   "metadata": {},
   "source": [
    "balanced dataset, no missing values"
   ]
  },
  {
   "cell_type": "markdown",
   "metadata": {
    "id": "WN9YMCQZx1XA"
   },
   "source": [
    "### Divide your dataset into train and test sets. Don't forget to shuffle the data. Run a basic model (using the default hyperparameters), and report the results. THE MODEL YOU CHOOSE SHOULD HAVE ATLEAST 3 TUNABLE HYPERPARAMETERS"
   ]
  },
  {
   "cell_type": "code",
   "execution_count": 17,
   "metadata": {
    "ExecuteTime": {
     "end_time": "2020-12-21T09:16:12.419967Z",
     "start_time": "2020-12-21T09:16:12.409981Z"
    },
    "id": "OPuXij0ax1XB"
   },
   "outputs": [
    {
     "name": "stdout",
     "output_type": "stream",
     "text": [
      "Fraction of train: 0.799\n",
      "Fraction of test: 0.201\n"
     ]
    }
   ],
   "source": [
    "# Automatically shuffles data\n",
    "from sklearn.model_selection import train_test_split\n",
    "\n",
    "X_train, X_test, y_train, y_test = train_test_split(X, y, test_size=0.2, random_state=42)\n",
    "\n",
    "print(f'Fraction of train: {X_train.shape[0] / len(X):.3f}')\n",
    "print(f'Fraction of test: {X_test.shape[0] / len(X):.3f}')"
   ]
  },
  {
   "cell_type": "code",
   "execution_count": 18,
   "metadata": {},
   "outputs": [
    {
     "name": "stdout",
     "output_type": "stream",
     "text": [
      "Classification Report:\n",
      "              precision    recall  f1-score   support\n",
      "\n",
      "           0       0.73      0.73      0.73        67\n",
      "           1       0.78      0.78      0.78        80\n",
      "\n",
      "    accuracy                           0.76       147\n",
      "   macro avg       0.75      0.75      0.75       147\n",
      "weighted avg       0.76      0.76      0.76       147\n",
      "\n",
      "\n"
     ]
    }
   ],
   "source": [
    "from sklearn.ensemble import RandomForestClassifier\n",
    "\n",
    "model = RandomForestClassifier()\n",
    "model.fit(X_train, y_train)\n",
    "\n",
    "y_pred = model.predict(X_test)\n",
    "y_probs = model.predict_proba(X_test)[:,1] # probability of True\n",
    "\n",
    "from sklearn.metrics import classification_report\n",
    "class_report = classification_report(y_test, y_pred)\n",
    "print(f\"Classification Report:\\n{class_report}\\n\")"
   ]
  },
  {
   "cell_type": "code",
   "execution_count": null,
   "metadata": {},
   "outputs": [],
   "source": [
    "from sklearn.ensemble import RandomForestClassifier\n",
    "\n",
    "model = RandomForestClassifier()\n",
    "model.fit(X_train, y_train)\n",
    "\n",
    "y_pred = model.predict(X_test)\n",
    "y_probs = model.predict_proba(X_test)[:,1] # probability of True\n",
    "\n",
    "from sklearn.metrics import classification_report\n",
    "class_report = classification_report(y_test, y_pred)\n",
    "print(f\"Classification Report:\\n{class_report}\\n\")"
   ]
  },
  {
   "cell_type": "markdown",
   "metadata": {},
   "source": [
    "tunable hyper-parameters:\n",
    "- n_estimators: The number of trees in the forest.\n",
    "- max_depth: The maximum depth of the trees.\n",
    "- min_samples_split: The minimum number of samples required to split an internal node.\n",
    "- min_samples_leaf: The minimum number of samples required to be at a leaf node."
   ]
  },
  {
   "cell_type": "markdown",
   "metadata": {
    "id": "W4s3JpjNx1XB"
   },
   "source": [
    "### Choose features according to one method of your choice. Explain your pick. Run the same basic model that you ran before (using the default hyperparameters), using only the chosen features, and report the results."
   ]
  },
  {
   "cell_type": "markdown",
   "metadata": {},
   "source": [
    "Let's use a wrapper method"
   ]
  },
  {
   "cell_type": "code",
   "execution_count": 20,
   "metadata": {
    "ExecuteTime": {
     "end_time": "2020-12-21T09:16:12.419967Z",
     "start_time": "2020-12-21T09:16:12.409981Z"
    },
    "id": "3K4w6sIMx1XB"
   },
   "outputs": [
    {
     "data": {
      "text/html": [
       "<div>\n",
       "<style scoped>\n",
       "    .dataframe tbody tr th:only-of-type {\n",
       "        vertical-align: middle;\n",
       "    }\n",
       "\n",
       "    .dataframe tbody tr th {\n",
       "        vertical-align: top;\n",
       "    }\n",
       "\n",
       "    .dataframe thead th {\n",
       "        text-align: right;\n",
       "    }\n",
       "</style>\n",
       "<table border=\"1\" class=\"dataframe\">\n",
       "  <thead>\n",
       "    <tr style=\"text-align: right;\">\n",
       "      <th></th>\n",
       "      <th>Importance</th>\n",
       "    </tr>\n",
       "  </thead>\n",
       "  <tbody>\n",
       "    <tr>\n",
       "      <th>cp</th>\n",
       "      <td>0.159587</td>\n",
       "    </tr>\n",
       "    <tr>\n",
       "      <th>thalach</th>\n",
       "      <td>0.125722</td>\n",
       "    </tr>\n",
       "    <tr>\n",
       "      <th>slope</th>\n",
       "      <td>0.125579</td>\n",
       "    </tr>\n",
       "    <tr>\n",
       "      <th>chol</th>\n",
       "      <td>0.122719</td>\n",
       "    </tr>\n",
       "    <tr>\n",
       "      <th>age</th>\n",
       "      <td>0.105555</td>\n",
       "    </tr>\n",
       "    <tr>\n",
       "      <th>oldpeak</th>\n",
       "      <td>0.095346</td>\n",
       "    </tr>\n",
       "    <tr>\n",
       "      <th>exang</th>\n",
       "      <td>0.090997</td>\n",
       "    </tr>\n",
       "    <tr>\n",
       "      <th>trestbps</th>\n",
       "      <td>0.087733</td>\n",
       "    </tr>\n",
       "    <tr>\n",
       "      <th>sex</th>\n",
       "      <td>0.045666</td>\n",
       "    </tr>\n",
       "    <tr>\n",
       "      <th>restecg</th>\n",
       "      <td>0.028111</td>\n",
       "    </tr>\n",
       "    <tr>\n",
       "      <th>fbs</th>\n",
       "      <td>0.012985</td>\n",
       "    </tr>\n",
       "  </tbody>\n",
       "</table>\n",
       "</div>"
      ],
      "text/plain": [
       "          Importance\n",
       "cp          0.159587\n",
       "thalach     0.125722\n",
       "slope       0.125579\n",
       "chol        0.122719\n",
       "age         0.105555\n",
       "oldpeak     0.095346\n",
       "exang       0.090997\n",
       "trestbps    0.087733\n",
       "sex         0.045666\n",
       "restecg     0.028111\n",
       "fbs         0.012985"
      ]
     },
     "metadata": {},
     "output_type": "display_data"
    },
    {
     "name": "stdout",
     "output_type": "stream",
     "text": [
      "\n"
     ]
    },
    {
     "data": {
      "text/plain": [
       "'Removed features in train set:'"
      ]
     },
     "metadata": {},
     "output_type": "display_data"
    },
    {
     "data": {
      "text/plain": [
       "{'fbs', 'restecg', 'sex'}"
      ]
     },
     "metadata": {},
     "output_type": "display_data"
    },
    {
     "name": "stdout",
     "output_type": "stream",
     "text": [
      "\n"
     ]
    },
    {
     "data": {
      "text/plain": [
       "'Removed features in test set:'"
      ]
     },
     "metadata": {},
     "output_type": "display_data"
    },
    {
     "data": {
      "text/plain": [
       "{'fbs', 'restecg', 'sex'}"
      ]
     },
     "metadata": {},
     "output_type": "display_data"
    }
   ],
   "source": [
    "# Select important features with a wrapper method\n",
    "importances = pd.Series(model.feature_importances_, index=X_train.columns).sort_values(ascending=False)\n",
    "\n",
    "display(importances.to_frame(name='Importance'))\n",
    "# Keep features with importance greater than 0.01\n",
    "important_feature_names = importances[importances.values > 0.05].index\n",
    "X_train_reduced = X_train[important_feature_names]\n",
    "X_test_reduced = X_test[important_feature_names]\n",
    "\n",
    "print()\n",
    "display(\"Removed features in train set:\")\n",
    "display(set(X_train) - set(X_train_reduced))\n",
    "print()\n",
    "display(\"Removed features in test set:\")\n",
    "display(set(X_test) - set(X_test_reduced))"
   ]
  },
  {
   "cell_type": "code",
   "execution_count": 21,
   "metadata": {},
   "outputs": [
    {
     "data": {
      "image/png": "[encoded data removed]",
      "text/plain": [
       "<Figure size 640x480 with 1 Axes>"
      ]
     },
     "metadata": {},
     "output_type": "display_data"
    }
   ],
   "source": [
    "# Display the important features as a bar plot\n",
    "sns.barplot(x=importances.values,\n",
    "            y=importances.index)\n",
    "plt.axvline(0.05, color='red')\n",
    "plt.title('Feature Importances for RandomForest')\n",
    "plt.xlabel('Importance')\n",
    "plt.ylabel('Feature')\n",
    "plt.show()"
   ]
  },
  {
   "cell_type": "code",
   "execution_count": 38,
   "metadata": {},
   "outputs": [
    {
     "name": "stdout",
     "output_type": "stream",
     "text": [
      "Classification Report:\n",
      "              precision    recall  f1-score   support\n",
      "\n",
      "           0       0.72      0.79      0.75        67\n",
      "           1       0.81      0.74      0.77        80\n",
      "\n",
      "    accuracy                           0.76       147\n",
      "   macro avg       0.76      0.76      0.76       147\n",
      "weighted avg       0.77      0.76      0.76       147\n",
      "\n",
      "\n"
     ]
    }
   ],
   "source": [
    "from xgboost import XGBClassifier\n",
    "\n",
    "# Run xgboost model\n",
    "model = XGBClassifier()\n",
    "model.fit(X_train_reduced, y_train)\n",
    "\n",
    "y_pred = model.predict(X_test_reduced)\n",
    "\n",
    "class_report = classification_report(y_test, y_pred)\n",
    "print(f\"Classification Report:\\n{class_report}\\n\")"
   ]
  },
  {
   "cell_type": "code",
   "execution_count": 25,
   "metadata": {},
   "outputs": [],
   "source": [
    "# Select important features with a wrapper method\n",
    "importances_xb = pd.Series(model.feature_importances_, index=X_train_reduced.columns).sort_values(ascending=False)"
   ]
  },
  {
   "cell_type": "code",
   "execution_count": 28,
   "metadata": {},
   "outputs": [
    {
     "data": {
      "image/png": "[encoded data removed]",
      "text/plain": [
       "<Figure size 640x480 with 1 Axes>"
      ]
     },
     "metadata": {},
     "output_type": "display_data"
    }
   ],
   "source": [
    "# Display the important features as a bar plot\n",
    "sns.barplot(x=importances_xb.values,\n",
    "            y=importances_xb.index)\n",
    "plt.axvline(0.05, color='red')\n",
    "plt.title('Feature Importances for XGBoost')\n",
    "plt.xlabel('Importance')\n",
    "plt.ylabel('Feature')\n",
    "plt.show()"
   ]
  },
  {
   "cell_type": "markdown",
   "metadata": {
    "id": "J1L6iQtax1XC"
   },
   "source": [
    "### Run your RandomizedSearch for hyperparameter tuning on your dataset. What was the best combination of hyper parameters? What is the score that it yielded (best model)?"
   ]
  },
  {
   "cell_type": "code",
   "execution_count": null,
   "metadata": {
    "ExecuteTime": {
     "end_time": "2020-12-20T17:38:42.715013Z",
     "start_time": "2020-12-20T17:38:42.703044Z"
    },
    "id": "-K72Fo4vx1XC"
   },
   "outputs": [],
   "source": [
    "import random\n",
    "from itertools import product\n",
    "np.random.seed(31415)\n",
    "from sklearn.metrics import classification_report, accuracy_score, roc_curve, \\\n",
    "                                        roc_auc_score\n",
    "\n",
    "n_estimators = [int(x) for x in np.linspace(start = 200, stop = 2000, num = 5)]\n",
    "max_features = ['log2', 'sqrt']\n",
    "max_depth = [int(x) for x in np.linspace(10, 110, num = 11)]\n",
    "max_depth.append(None)\n",
    "min_samples_split = [2, 10, 50]\n",
    "min_samples_leaf = [4, 20]\n",
    "bootstrap = [True, False]\n",
    "\n",
    "param_grid = {'n_estimators': n_estimators,\n",
    "               'max_features': max_features,\n",
    "               'max_depth': max_depth,\n",
    "               'min_samples_split': min_samples_split,\n",
    "               'min_samples_leaf': min_samples_leaf,\n",
    "               'bootstrap': bootstrap}"
   ]
  },
  {
   "cell_type": "code",
   "execution_count": null,
   "metadata": {},
   "outputs": [],
   "source": [
    "from sklearn.model_selection import RandomizedSearchCV\n",
    "from sklearn.model_selection import ShuffleSplit\n",
    "\n",
    "metric = 'accuracy'\n",
    "model_rs = RandomizedSearchCV(estimator=RandomForestClassifier(),\n",
    "                             param_distributions=param_grid,\n",
    "                             scoring=metric,\n",
    "                             cv=ShuffleSplit(n_splits=5), # shuffles data randomly, then cross-validates\n",
    "                             random_state=0,\n",
    "                             verbose=10,\n",
    "                             n_iter=10, # number of randomly sampled paramater combinations\n",
    "                             n_jobs=-1)\n",
    "\n",
    "model_rs.fit(X_train_reduced, y_train)\n",
    "\n",
    "y_pred = model_rs.predict(X_test_reduced)"
   ]
  },
  {
   "cell_type": "code",
   "execution_count": null,
   "metadata": {},
   "outputs": [],
   "source": [
    "# Print title for best score\n",
    "display(\"Best Score:\")\n",
    "display(model_rs.best_score_)\n",
    "print()\n",
    "\n",
    "# Print title for best parameters\n",
    "display(\"Best Parameters:\")\n",
    "display(model_rs.best_params_)\n",
    "print()\n",
    "\n",
    "# Print title for best estimator\n",
    "display(\"Best Estimator:\")\n",
    "print(model_rs.best_estimator_)\n",
    "\n",
    "# Print classification report\n",
    "print()\n",
    "display(\"Classification Report:\")\n",
    "print(classification_report(y_test, y_pred))"
   ]
  },
  {
   "cell_type": "code",
   "execution_count": null,
   "metadata": {},
   "outputs": [],
   "source": [
    "# Show default classifcation report to compare performance\n",
    "print(classification_report(y_test, model.predict(X_test_reduced)))"
   ]
  },
  {
   "cell_type": "markdown",
   "metadata": {
    "id": "akgG-Q4ux1XD"
   },
   "source": [
    "### After your recieved results, which model do you think is the better option? Give pros and cons. Present your conclusions on a plot."
   ]
  },
  {
   "cell_type": "markdown",
   "metadata": {
    "id": "PLF5ZFPQx1XD"
   },
   "source": [
    "### BONUS: Use SHAP to interpret the predictions of all FN samples the model yielded"
   ]
  },
  {
   "cell_type": "code",
   "execution_count": null,
   "metadata": {
    "scrolled": false
   },
   "outputs": [],
   "source": [
    "import shap\n",
    "\n",
    "# Compute SHAP values\n",
    "explainer = shap.TreeExplainer(model)\n",
    "shap_values = explainer.shap_values(X_test)\n",
    "\n",
    "# SHAP Summary Plot\n",
    "shap.summary_plot(shap_values[1], X_test, feature_names=X_test.columns, plot_type='bar')\n",
    "\n",
    "print()\n",
    "print()\n",
    "# SHAP Summary Plot\n",
    "shap.summary_plot(shap_values[1], X_test, feature_names=X_test.columns)"
   ]
  },
  {
   "cell_type": "code",
   "execution_count": null,
   "metadata": {},
   "outputs": [],
   "source": [
    "# SHAP Dependence Plot for a single feature, e.g., 'thalach'\n",
    "shap.dependence_plot('thalach', shap_values[1], X_test, feature_names=X_test.columns)"
   ]
  },
  {
   "cell_type": "code",
   "execution_count": null,
   "metadata": {},
   "outputs": [],
   "source": [
    "# Try a new prediction\n",
    "X_train.columns"
   ]
  },
  {
   "cell_type": "markdown",
   "metadata": {},
   "source": [
    "### Predictions with new data"
   ]
  },
  {
   "cell_type": "code",
   "execution_count": 46,
   "metadata": {},
   "outputs": [
    {
     "data": {
      "text/plain": [
       "[[32, 1, 140, 284, 90, 0, 0.4, 1],\n",
       " [43, 2, 98, 239, 122, 1, 4.1, 3],\n",
       " [36, 4, 97, 184, 150, 1, 1.1, 2],\n",
       " [35, 2, 195, 153, 123, 0, 5.8, 2],\n",
       " [73, 2, 163, 163, 164, 1, 2.0, 2]]"
      ]
     },
     "metadata": {},
     "output_type": "display_data"
    }
   ],
   "source": [
    "# Assuming plausible ranges based on typical clinical ranges or categorical options\n",
    "def generate_random_instance():\n",
    "    age = np.random.randint(30, 80)  # Age in years\n",
    "    # sex = np.random.randint(0, 2)  # Sex (1 = male; 0 = female)\n",
    "    cp = np.random.randint(1, 5)  # Chest pain type (1 to 4)\n",
    "    trestbps = np.random.randint(90, 200)  # Resting blood pressure\n",
    "    chol = np.random.randint(150, 300)  # Serum cholesterol in mg/dl\n",
    "    # fbs = np.random.randint(0, 2)  # Fasting blood sugar > 120 mg/dl (1 = true; 0 = false)\n",
    "    # restecg = np.random.randint(0, 3)  # Resting electrocardiographic results (0 to 2)\n",
    "    thalach = np.random.randint(70, 200)  # Maximum heart rate achieved\n",
    "    exang = np.random.randint(0, 2)  # Exercise induced angina (1 = yes; 0 = no)\n",
    "    oldpeak = np.round(np.random.uniform(0, 6), 1)  # ST depression induced by exercise relative to rest\n",
    "    slope = np.random.randint(1, 4)  # The slope of the peak exercise ST segment (1 to 3)\n",
    "    \n",
    "    return [age, cp, trestbps, chol, thalach, exang, oldpeak, slope]\n",
    "\n",
    "\n",
    "\n",
    "random_samples = [] \n",
    "\n",
    "for i in range(5):\n",
    "    sample = generate_random_instance()\n",
    "    random_samples.append(sample)\n",
    "\n",
    "\n",
    "display(random_samples)"
   ]
  },
  {
   "cell_type": "code",
   "execution_count": 47,
   "metadata": {},
   "outputs": [
    {
     "data": {
      "text/plain": [
       "array([0, 1, 1, 1, 1])"
      ]
     },
     "execution_count": 47,
     "metadata": {},
     "output_type": "execute_result"
    }
   ],
   "source": [
    "# predict new data\n",
    "model.predict(random_samples)"
   ]
  },
  {
   "cell_type": "code",
   "execution_count": null,
   "metadata": {},
   "outputs": [],
   "source": []
  }
 ],
 "metadata": {
  "colab": {
   "collapsed_sections": [],
   "name": "PRACTICE Exam 3 - Supervised learning.ipynb",
   "provenance": []
  },
  "kernelspec": {
   "display_name": "Python 3 (ipykernel)",
   "language": "python",
   "name": "python3"
  },
  "language_info": {
   "codemirror_mode": {
    "name": "ipython",
    "version": 3
   },
   "file_extension": ".py",
   "mimetype": "text/x-python",
   "name": "python",
   "nbconvert_exporter": "python",
   "pygments_lexer": "ipython3",
   "version": "3.11.5"
  },
  "latex_envs": {
   "LaTeX_envs_menu_present": true,
   "autoclose": false,
   "autocomplete": true,
   "bibliofile": "biblio.bib",
   "cite_by": "apalike",
   "current_citInitial": 1,
   "eqLabelWithNumbers": true,
   "eqNumInitial": 1,
   "hotkeys": {
    "equation": "Ctrl-E",
    "itemize": "Ctrl-I"
   },
   "labels_anchors": false,
   "latex_user_defs": false,
   "report_style_numbering": false,
   "user_envs_cfg": false
  },
  "toc": {
   "base_numbering": 1,
   "nav_menu": {},
   "number_sections": true,
   "sideBar": true,
   "skip_h1_title": false,
   "title_cell": "Table of Contents",
   "title_sidebar": "Contents",
   "toc_cell": false,
   "toc_position": {},
   "toc_section_display": true,
   "toc_window_display": false
  }
 },
 "nbformat": 4,
 "nbformat_minor": 1
}
